{
 "cells": [
  {
   "cell_type": "markdown",
   "id": "ffa19aa3-c5bf-4865-8a65-01a617da6e6c",
   "metadata": {},
   "source": [
    "Q 1.Three measures of central tendency are the mean, median, and mode.\n",
    "\n",
    "Mean: The mean is commonly referred to as the average and is calculated by summing up all the values in a dataset and dividing the sum by the total number of values. It is sensitive to extreme values and can be influenced by outliers.\n",
    "\n",
    "Median: The median is the middle value in a dataset when it is arranged in ascending or descending order. If there is an even number of values, the median is the average of the two middle values. The median is less affected by extreme values or outliers and provides a measure of the central value.\n",
    "\n",
    "Mode: The mode is the value that occurs most frequently in a dataset. It represents the most common or popular value in the dataset. Unlike the mean and median, the mode can be applied to both numerical and categorical data. It is useful for identifying the central value in categorical or discrete datasets."
   ]
  },
  {
   "cell_type": "markdown",
   "id": "a2968c39-fb8c-4527-9d84-7580229d7d7a",
   "metadata": {},
   "source": [
    "Q 2. The mean, median, and mode are three different measures of central tendency that provide information about the typical or central value of a dataset. Here's a breakdown of their differences and how they are used:\n",
    "\n",
    "Mean:\n",
    "The mean is calculated by summing up all the values in a dataset and dividing the sum by the total number of values. It is commonly referred to as the average. The mean is sensitive to extreme values or outliers because it takes into account all the values in the dataset. It provides a measure of the central tendency by considering the balance between higher and lower values in the dataset.\n",
    "The mean is often used when the data is numerical and follows a roughly symmetric distribution. For example, it can be used to calculate the average score of a class, the average income in a population, or the average temperature over a period of time.\n",
    "\n",
    "Median:\n",
    "The median is the middle value in a dataset when it is arranged in ascending or descending order. If there is an even number of values, the median is the average of the two middle values. The median is less affected by extreme values or outliers because it focuses solely on the positional value within the dataset.\n",
    "The median is particularly useful when dealing with skewed distributions or when extreme values are present. It provides a measure of the central tendency that is robust against outliers. For example, the median can be used to represent the typical salary in a company where a few extremely high salaries could skew the mean.\n",
    "\n",
    "Mode:\n",
    "The mode is the value that occurs most frequently in a dataset. It represents the most common or popular value. Unlike the mean and median, the mode can be applied to both numerical and categorical data.\n",
    "The mode is commonly used to describe the central tendency of categorical or discrete datasets. For example, in a survey where respondents select their favorite color from a list of options, the mode would represent the most frequently chosen color."
   ]
  },
  {
   "cell_type": "code",
   "execution_count": 1,
   "id": "5f4c9a66-1cc5-4d39-bfbd-d87025c80092",
   "metadata": {},
   "outputs": [],
   "source": [
    "import numpy as np\n",
    "from statistics import mean"
   ]
  },
  {
   "cell_type": "code",
   "execution_count": 2,
   "id": "eb5b48e2-f482-4522-bb24-4d540e587c43",
   "metadata": {},
   "outputs": [],
   "source": [
    "heights = [178, 177, 176, 177, 178.2, 178, 175, 179, 180, 175, 178.9, 176.2, 177, 172.5, 178, 176.5]\n"
   ]
  },
  {
   "cell_type": "code",
   "execution_count": 3,
   "id": "ad96ec1a-25d7-435b-bc25-1ac2868d967c",
   "metadata": {},
   "outputs": [
    {
     "name": "stdout",
     "output_type": "stream",
     "text": [
      "Mean height: 177.01875\n"
     ]
    }
   ],
   "source": [
    "mean_height = np.mean(heights)\n",
    "print(\"Mean height:\", mean_height)\n"
   ]
  },
  {
   "cell_type": "code",
   "execution_count": 4,
   "id": "6473f5a8-9103-4ef0-8889-3c6f0c5f1558",
   "metadata": {},
   "outputs": [],
   "source": []
  },
  {
   "cell_type": "code",
   "execution_count": 5,
   "id": "893e83d0-e8b8-4d10-8c4b-94dec274a533",
   "metadata": {},
   "outputs": [
    {
     "name": "stdout",
     "output_type": "stream",
     "text": [
      "Median height: 177.0\n"
     ]
    }
   ],
   "source": [
    "median_height = np.median(heights)\n",
    "print(\"Median height:\", median_height)\n"
   ]
  },
  {
   "cell_type": "code",
   "execution_count": 16,
   "id": "ecbfcb38-758c-4952-bab1-24c3e3bd678b",
   "metadata": {},
   "outputs": [
    {
     "name": "stdout",
     "output_type": "stream",
     "text": [
      "Mode height: 178\n"
     ]
    }
   ],
   "source": [
    "from statistics import mode\n",
    "try:\n",
    "    mode_height = mode(heights)\n",
    "    print(\"Mode height:\", mode_height)\n",
    "except StatisticsError:\n",
    "    print(\"No unique mode found.\")"
   ]
  },
  {
   "cell_type": "markdown",
   "id": "af963ace-50c3-438a-bf28-5f957c858ec6",
   "metadata": {},
   "source": [
    "Q 4. Find the standard deviation for the given data:"
   ]
  },
  {
   "cell_type": "code",
   "execution_count": 23,
   "id": "c930c5b1-762d-4e9e-9d7e-95e0b97b0b6f",
   "metadata": {},
   "outputs": [],
   "source": [
    "import numpy as np"
   ]
  },
  {
   "cell_type": "code",
   "execution_count": 24,
   "id": "23fbca0d-1eb7-4fa4-895f-a7a05a10a51b",
   "metadata": {},
   "outputs": [
    {
     "name": "stdout",
     "output_type": "stream",
     "text": [
      "Standard deviation: 1.7885814036548633\n"
     ]
    }
   ],
   "source": [
    "heights = [178, 177, 176, 177, 178.2, 178, 175, 179, 180, 175, 178.9, 176.2, 177, 172.5, 178, 176.5]\n",
    "\n",
    "std_height = np.std(heights)\n",
    "print(\"Standard deviation:\", std_height)\n"
   ]
  },
  {
   "cell_type": "markdown",
   "id": "cc86154a-37f1-4aa6-8c1c-a4af17d5c092",
   "metadata": {},
   "source": [
    "Q 5. Measures of dispersion, such as range, variance, and standard deviation, are used to describe the spread or variability of a dataset. They provide information about how the values in the dataset are spread out from the central tendency measures (such as mean or median).\n",
    "\n",
    "Example:- "
   ]
  },
  {
   "cell_type": "code",
   "execution_count": 25,
   "id": "c3c0039f-69ea-4b85-8fa8-f0202113dd02",
   "metadata": {},
   "outputs": [
    {
     "name": "stdout",
     "output_type": "stream",
     "text": [
      "Range: 14\n"
     ]
    }
   ],
   "source": [
    "import numpy as np\n",
    "\n",
    "data = [12, 14, 15, 17, 20, 21, 22, 23, 24, 26]\n",
    "\n",
    "# Range\n",
    "data_range = np.ptp(data)\n",
    "print(\"Range:\", data_range)\n"
   ]
  },
  {
   "cell_type": "code",
   "execution_count": 27,
   "id": "9c153504-80e3-4d30-bbb3-1967da00ac73",
   "metadata": {},
   "outputs": [
    {
     "name": "stdout",
     "output_type": "stream",
     "text": [
      "Variance: 19.639999999999997\n"
     ]
    }
   ],
   "source": [
    "# Variance\n",
    "data_variance = np.var(data)\n",
    "print(\"Variance:\", data_variance)\n"
   ]
  },
  {
   "cell_type": "code",
   "execution_count": 28,
   "id": "171de499-d0fb-4f4f-8761-462b06aeaa7e",
   "metadata": {},
   "outputs": [
    {
     "name": "stdout",
     "output_type": "stream",
     "text": [
      "Standard deviation: 4.431703961232067\n"
     ]
    }
   ],
   "source": [
    "# Standard deviation\n",
    "data_std = np.std(data)\n",
    "print(\"Standard deviation:\", data_std)\n"
   ]
  },
  {
   "cell_type": "markdown",
   "id": "dfaf33fa-95ad-4e15-90e5-871463cc0b20",
   "metadata": {},
   "source": [
    "Q 6. A Venn diagram is a graphical representation that uses overlapping circles or other shapes to illustrate the logical relationships between different sets of items. \n",
    "\n",
    "The primary purpose of a Venn diagram is to visually illustrate set relationships, such as:\n",
    "\n",
    "Intersection: The overlapping region(s) of the circles represent elements that are common to both sets. It shows the items that belong to both sets simultaneously.\n",
    "\n",
    "Union: The entire area within the circles represents the combination of all elements from all sets. It shows all the items that belong to at least one of the sets.\n",
    "\n",
    "Disjoint sets: If the circles do not overlap, it indicates that the sets have no elements in common. They are completely separate or disjoint."
   ]
  },
  {
   "cell_type": "markdown",
   "id": "742cf2cc-8997-4abb-bf13-c4a94e2c9c2d",
   "metadata": {},
   "source": [
    "Q 7. For the two given sets A = (2,3,4,5,6,7) & B = (0,2,6,8,10). Find:"
   ]
  },
  {
   "cell_type": "code",
   "execution_count": 30,
   "id": "80b5f6f3-f15c-475a-bade-68f9cb1f4530",
   "metadata": {},
   "outputs": [
    {
     "name": "stdout",
     "output_type": "stream",
     "text": [
      "Union (A ⋃ B): {0, 2, 3, 4, 5, 6, 7, 8, 10}\n"
     ]
    }
   ],
   "source": [
    "# Sets A and B\n",
    "A = {2, 3, 4, 5, 6, 7}\n",
    "B = {0, 2, 6, 8, 10}\n",
    "\n",
    "# Union of A and B\n",
    "union = A.union(B)\n",
    "print(\"Union (A ⋃ B):\", union)"
   ]
  },
  {
   "cell_type": "code",
   "execution_count": 31,
   "id": "0cda2aea-d863-4073-baee-b81da4030f53",
   "metadata": {},
   "outputs": [
    {
     "name": "stdout",
     "output_type": "stream",
     "text": [
      "Intersection (A ∩ B): {2, 6}\n"
     ]
    }
   ],
   "source": [
    "# Sets A and B\n",
    "A = {2, 3, 4, 5, 6, 7}\n",
    "B = {0, 2, 6, 8, 10}\n",
    "\n",
    "# Intersection of A and B\n",
    "intersection = A.intersection(B)\n",
    "print(\"Intersection (A ∩ B):\", intersection)"
   ]
  },
  {
   "cell_type": "markdown",
   "id": "d68eae7b-0fa5-4aeb-ac0d-3cce0bd9e53a",
   "metadata": {},
   "source": [
    "Q 8. Skewness is a statistical measure that describes the asymmetry or lack of symmetry in a dataset's distribution. It indicates the degree to which the data is skewed or shifted towards one tail of the distribution.\n",
    "\n",
    "In a symmetrical distribution, the data is evenly distributed around the mean, and the skewness is close to zero. However, when the distribution is skewed, it indicates that the data is not evenly distributed and is biased towards one side.\n",
    "\n",
    "Skewness can be classified into three types:\n",
    "\n",
    "Positive Skewness (Right Skew): Also known as right skew, it occurs when the tail of the distribution extends towards the right, or positive, side. In this case, the majority of the data is concentrated on the left side of the distribution, and the mean is greater than the median.\n",
    "\n",
    "Negative Skewness (Left Skew): Also known as left skew, it occurs when the tail of the distribution extends towards the left, or negative, side. In this case, the majority of the data is concentrated on the right side of the distribution, and the mean is less than the median.\n",
    "\n",
    "Zero Skewness: Zero skewness indicates that the dataset is symmetrically distributed. The data is evenly distributed around the mean, and there is no skewness present."
   ]
  },
  {
   "cell_type": "markdown",
   "id": "2a734149-a844-430d-abff-f7945181b139",
   "metadata": {},
   "source": [
    "Q 9.If a data is right-skewed, the median will typically be less than the mean.\n",
    "\n",
    "In a right-skewed distribution, the tail of the distribution extends towards the right, indicating that there are some larger values that pull the mean in that direction. Consequently, the mean is generally pulled towards the right by the influence of these larger values. As a result, the mean tends to be greater than the median."
   ]
  },
  {
   "cell_type": "markdown",
   "id": "3b2a4b95-7f95-4f7e-bc81-3e617dd1ebd2",
   "metadata": {},
   "source": [
    "Q 9. Covariance and correlation are two statistical measures that provide information about the relationship between two variables. While they both measure the extent of the relationship, there are some key differences between them.\n",
    "\n",
    "Covariance:\n",
    "Covariance measures how two variables vary together. It quantifies the degree to which changes in one variable are associated with changes in another variable. It can take positive, negative, or zero values.\n",
    "\n",
    "The formula for covariance between two variables X and Y, based on a dataset of n observations, is:\n",
    "\n",
    "cov(X, Y) = Σ((Xᵢ - X̄)(Yᵢ - Ȳ)) / (n - 1)\n",
    "\n",
    "where Xᵢ and Yᵢ are individual data points, X̄ and Ȳ are the means of X and Y, respectively, and Σ represents the summation of all observations.\n",
    "\n",
    "Covariance is not normalized and depends on the scale of the variables. Therefore, it can be challenging to interpret the magnitude of covariance alone. A positive covariance indicates a positive relationship (as one variable increases, the other tends to increase), a negative covariance indicates a negative relationship (as one variable increases, the other tends to decrease), and a covariance close to zero indicates a weak or no linear relationship.\n",
    "\n",
    "Correlation:\n",
    "Correlation is a standardized version of covariance that provides a more interpretable measure of the relationship between variables. It measures both the strength and direction of the linear relationship between two variables. Correlation values range from -1 to 1, where -1 indicates a perfect negative linear relationship, 1 indicates a perfect positive linear relationship, and 0 indicates no linear relationship.\n",
    "\n",
    "The formula for correlation between two variables X and Y, based on a dataset of n observations, is:\n",
    "\n",
    "corr(X, Y) = cov(X, Y) / (σX * σY)\n",
    "\n",
    "where cov(X, Y) is the covariance between X and Y, and σX and σY are the standard deviations of X and Y, respectively.\n",
    "\n",
    "Correlation normalizes the covariance by dividing it by the product of the standard deviations. This normalization ensures that correlation is not affected by the scale of the variables and provides a standardized measure of the relationship.\n",
    "\n",
    "In statistical analysis, covariance and correlation are used to understand the relationship between variables, detect patterns, and make predictions. They are widely used in various fields such as finance, economics, social sciences, and data analysis. "
   ]
  },
  {
   "cell_type": "markdown",
   "id": "0c368e91-8aa8-4bc8-9ca8-fb9f5708bd49",
   "metadata": {},
   "source": [
    "Q 11. The formula for calculating the sample mean is as follows:\n",
    "\n",
    "Sample Mean = (Sum of all data points) / (Number of data points)\n",
    "\n",
    "To calculate the sample mean for a dataset, you sum up all the values in the dataset and divide the sum by the total number of data points.\n",
    "\n",
    "Example calculation of the sample mean for a dataset:\n",
    "Dataset: [12, 14, 15, 17, 20, 21, 22, 23, 24, 26]\n",
    "\n",
    "Step 1: Add up all the values in the dataset:\n",
    "12 + 14 + 15 + 17 + 20 + 21 + 22 + 23 + 24 + 26 = 194\n",
    "\n",
    "Step 2: Determine the number of data points in the dataset:\n",
    "The dataset contains 10 data points.\n",
    "\n",
    "Step 3: Calculate the sample mean:\n",
    "Sample Mean = 194 / 10 = 19.4\n",
    "\n",
    "Therefore, the sample mean for the given dataset is 19.4."
   ]
  },
  {
   "cell_type": "markdown",
   "id": "4280aff5-8578-4f33-980d-bbf689634b9a",
   "metadata": {},
   "source": [
    "Q 12. For a normal distribution, the three measures of central tendency (mean, median, and mode) are all equal or very close to each other. In a perfectly symmetrical and unimodal normal distribution, the mean, median, and mode are located at the same point within the distribution.\n",
    "\n",
    "Here are the key relationships between the measures of central tendency in a normal distribution:\n",
    "\n",
    "Mean: The mean is the arithmetic average of all the data points in a normal distribution. It is located at the center of the distribution. In a perfectly normal distribution, the mean is exactly equal to the median and mode.\n",
    "\n",
    "Median: The median is the middle value in a dataset when it is arranged in ascending or descending order. In a normal distribution, where symmetry exists, the median is also equal to the mean and mode. It divides the distribution into two equal halves.\n",
    "\n",
    "Mode: The mode represents the most frequently occurring value in a dataset. In a normal distribution, where the data is symmetrically distributed, the mode is also equal to the mean and median. Since every value in a normal distribution has the same frequency of occurrence, every value is a mode."
   ]
  },
  {
   "cell_type": "markdown",
   "id": "019c319f-0ba7-4a97-bfd4-cbf563ef22fa",
   "metadata": {},
   "source": [
    "Q 13. Covariance and correlation are both measures used to assess the relationship between two variables. However, there are significant differences between the two:\n",
    "\n",
    "1. Scale Independence:\n",
    "Covariance: Covariance is not scale independent, meaning it depends on the units of the variables being measured. Consequently, the covariance value can be influenced by the scale of the variables, making it difficult to compare covariances across different datasets.\n",
    "Correlation: Correlation is scale independent, which means it is not affected by the units of measurement. Correlation allows for the comparison of relationships between variables from different datasets, as it is standardized and falls within a fixed range (-1 to 1).\n",
    "\n",
    "2. Interpretation:\n",
    "Covariance: Covariance does not provide a clear interpretation of the strength of the relationship. It only indicates the direction (positive or negative) and the degree of linear association between the variables.\n",
    "Correlation: Correlation provides a standardized measure that allows for easy interpretation. A correlation value of -1 indicates a perfect negative linear relationship, 1 indicates a perfect positive linear relationship, and 0 indicates no linear relationship. Additionally, the magnitude of the correlation value reflects the strength of the relationship.\n",
    "\n",
    "3. Range:\n",
    "Covariance: Covariance can take any value, positive, negative, or zero, depending on the nature of the relationship between the variables.\n",
    "Correlation: Correlation ranges from -1 to 1, where -1 indicates a perfect negative linear relationship, 1 indicates a perfect positive linear relationship, and 0 indicates no linear relationship.\n",
    "In statistical analysis, correlation is often preferred over covariance due to its standardized interpretation, scale independence, and ease of comparison. Correlation provides a more meaningful and robust measure of the relationship between variables compared to covariance.\n",
    "\n",
    "\n",
    "\n",
    "\n",
    "\n"
   ]
  },
  {
   "cell_type": "markdown",
   "id": "9932cd24-bf5d-4459-9378-4b3c60c31d29",
   "metadata": {},
   "source": [
    "Outliers can significantly affect measures of central tendency and dispersion, potentially distorting their values. Here's an example in Python to demonstrate how outliers can impact these measures:"
   ]
  }
 ],
 "metadata": {
  "kernelspec": {
   "display_name": "Python 3 (ipykernel)",
   "language": "python",
   "name": "python3"
  },
  "language_info": {
   "codemirror_mode": {
    "name": "ipython",
    "version": 3
   },
   "file_extension": ".py",
   "mimetype": "text/x-python",
   "name": "python",
   "nbconvert_exporter": "python",
   "pygments_lexer": "ipython3",
   "version": "3.10.8"
  }
 },
 "nbformat": 4,
 "nbformat_minor": 5
}
